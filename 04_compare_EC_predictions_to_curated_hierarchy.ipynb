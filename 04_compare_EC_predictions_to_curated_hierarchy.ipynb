{
 "cells": [
  {
   "cell_type": "markdown",
   "id": "e4361341",
   "metadata": {},
   "source": [
    "## Table of contents\n",
    "* [Define parameters](#parameters)\n",
    "* [Download and prepare input data](#prepare)\n",
    "* [Evaluate predictions using Rhea reactions with curated EC](#curatedEC)\n",
    "* [Evaluate predictions using Rhea reactions with inferred EC](#inferredEC)\n",
    "    * [Infer EC classes from curated Rhea reaction hierarchy](#hierarchy)\n",
    "    * [Compare hierarchy-inferred and predicted ECs](#compare)\n",
    "    * [Plot MLP probabilities](#plot)"
   ]
  },
  {
   "cell_type": "code",
   "execution_count": 1,
   "id": "c02abaa7",
   "metadata": {},
   "outputs": [],
   "source": [
    "import pandas as pd"
   ]
  },
  {
   "cell_type": "markdown",
   "id": "78e8096e",
   "metadata": {},
   "source": [
    "## Define parameters <a class=\"anchor\" id=\"parameters\"></a>\n",
    "\n",
    "In step 3 we have used the <code>ec123_drfp_mlp</code> model to make EC predictions. Here we will evaluate them."
   ]
  },
  {
   "cell_type": "code",
   "execution_count": 2,
   "id": "c5f1873e",
   "metadata": {},
   "outputs": [],
   "source": [
    "modeltype='ec123_drfp_mlp'"
   ]
  },
  {
   "cell_type": "markdown",
   "id": "d2731913",
   "metadata": {},
   "source": [
    "## Download and prepare input data <a class=\"anchor\" id=\"prepare\"></a>\n",
    "\n",
    "Download the input files from the Rhea FTP site https://ftp.expasy.org/databases/rhea/tsv/ (internet connection required) and pre-process them."
   ]
  },
  {
   "cell_type": "code",
   "execution_count": 3,
   "id": "4297087f",
   "metadata": {
    "scrolled": false
   },
   "outputs": [
    {
     "name": "stdout",
     "output_type": "stream",
     "text": [
      "df_ec = File rhea2ec.tsv \\(curated ECs\\)\n",
      "   Index(['RHEA_ID', 'DIRECTION', 'MASTER_ID', 'ID'], dtype='object')\n",
      "   7592 reaction - curated EC pairs\n",
      "df_hierarchy = rhea-relationships.tsv \\(curated reaction hierarchy\\)\n",
      "   Index(['FROM_REACTION_ID', 'TYPE', 'TO_REACTION_ID'], dtype='object')\n",
      "   15480 reaction relationships\n",
      "df_quartet = File rhea-directions.tsv \\(reaction quartets\\)\n",
      "   Index(['RHEA_ID_MASTER', 'RHEA_ID_LR', 'RHEA_ID_RL', 'RHEA_ID_BI'], dtype='object')\n",
      "   15837 reaction quartets\n",
      "\n",
      "=> Cleaning predictions file.\n",
      "\n",
      "df_pred = experiments/predictions/rheadb_predicted_ECs_{modeltype}.tsv\n",
      "   Index(['MASTER_ID', 'ec', 'rhea_id', 'rxn_smiles', 'EC_prediction'], dtype='object')\n",
      "   32285 rows\n",
      "\n",
      "-> Removing reactions without a prediction (i.e. those without a reaction SMILES).\n",
      "\n",
      "df_pred after removal of reactions without reaction SMILES\n",
      "   32277 rows\n",
      "\n",
      "-> Removing \"duplications\" (same reaction with different directions).\n",
      "\n",
      "dr_pred after adding MASTER_ID\n",
      "   Index(['ec', 'rhea_id', 'rxn_smiles', 'EC_prediction', 'MASTER_ID'], dtype='object')\n",
      "   32207 rows\n",
      "df_pred after removal of \"duplications\"\n",
      "   15827 reactions with predicted EC\n",
      "\n",
      "=> Created file experiments/predictions/rheadb_predicted_ECs_clean.tsv\n"
     ]
    }
   ],
   "source": [
    "# Get input data.\n",
    "df_ec        = pd.read_csv('https://ftp.expasy.org/databases/rhea/tsv/rhea2ec.tsv', sep='\\t')\n",
    "df_hierarchy = pd.read_csv('https://ftp.expasy.org/databases/rhea/tsv/rhea-relationships.tsv', sep='\\t')\n",
    "df_quartet   = pd.read_csv('https://ftp.expasy.org/databases/rhea/tsv/rhea-directions.tsv', sep='\\t')\n",
    "df_pred      = pd.read_csv(f'experiments/predictions/rheadb_predicted_ECs_{modeltype}.tsv', sep='\\t')\n",
    "\n",
    "print('df_ec = File rhea2ec.tsv \\(curated ECs\\)')\n",
    "print('  ', df_ec.columns)\n",
    "print('  ', len(df_ec), 'reaction - curated EC pairs')\n",
    "print('df_hierarchy = rhea-relationships.tsv \\(curated reaction hierarchy\\)')\n",
    "print('  ', df_hierarchy.columns)\n",
    "print('  ', len(df_hierarchy), 'reaction relationships')\n",
    "print('df_quartet = File rhea-directions.tsv \\(reaction quartets\\)')\n",
    "print('  ', df_quartet.columns)\n",
    "print('  ', len(df_quartet), 'reaction quartets')\n",
    "\n",
    "print('\\n=> Cleaning predictions file.\\n')\n",
    "print('df_pred = experiments/predictions/rheadb_predicted_ECs_{modeltype}.tsv')\n",
    "print('  ', df_pred.columns)\n",
    "print('  ', len(df_pred), 'rows')\n",
    "\n",
    "print('\\n-> Removing reactions without a prediction (i.e. those without a reaction SMILES).\\n')\n",
    "df_pred = df_pred[df_pred['EC_prediction']!='No prediction']\n",
    "print('df_pred after removal of reactions without reaction SMILES')\n",
    "print('  ', len(df_pred), 'rows')\n",
    "\n",
    "# We tried to predict an EC for the forward and reverse reaction direction.\n",
    "# Here we remove duplications. \n",
    "print('\\n-> Removing \"duplications\" (same reaction with different directions).\\n')\n",
    "\n",
    "# Add the ID of the undirected reaction (MASTER_ID) to the directed reactions\n",
    "# (RHEA_ID_LR or RHEA_ID_RL) to identify the \"duplicates\".\n",
    "def findMasterID(row):\n",
    "    if not pd.isna(row['MASTER_ID']):\n",
    "        return int(row['MASTER_ID'])\n",
    "    if df_quartet.loc[df_quartet['RHEA_ID_LR'] == row['rhea_id']]['RHEA_ID_MASTER'].to_list():\n",
    "        return df_quartet.loc[df_quartet['RHEA_ID_LR'] == row['rhea_id']]['RHEA_ID_MASTER'].to_list()[0]\n",
    "    if df_quartet.loc[df_quartet['RHEA_ID_RL'] == row['rhea_id']]['RHEA_ID_MASTER'].to_list():\n",
    "        return df_quartet.loc[df_quartet['RHEA_ID_RL'] == row['rhea_id']]['RHEA_ID_MASTER'].to_list()[0]\n",
    "    # None is for obsolete reactions.\n",
    "    return None\n",
    "    \n",
    "df_pred['MASTER_ID_checked'] = df_pred.apply(findMasterID, axis=1)\n",
    "df_pred = df_pred[~df_pred['MASTER_ID_checked'].isna()]\n",
    "df_pred.drop(columns=['MASTER_ID'], inplace=True)\n",
    "df_pred.rename(columns={'MASTER_ID_checked': \"MASTER_ID\"}, inplace=True)\n",
    "print('dr_pred after adding MASTER_ID')\n",
    "print('  ', df_pred.columns)\n",
    "print('  ', len(df_pred), 'rows')\n",
    "\n",
    "# Remove \"duplications\" (same reaction with different directions).\n",
    "df_pred.drop_duplicates(subset=['MASTER_ID','EC_prediction'], inplace=True)\n",
    "print('df_pred after removal of \"duplications\"')\n",
    "print('  ', len(df_pred), 'reactions with predicted EC')\n",
    "\n",
    "# Save the processed dataframe.\n",
    "output = \"experiments/predictions/rheadb_predicted_ECs_clean.tsv\"\n",
    "df_pred.to_csv(output, sep='\\t', index=False)\n",
    "print('\\n=> Created file', output)"
   ]
  },
  {
   "cell_type": "markdown",
   "id": "c5c26331",
   "metadata": {},
   "source": [
    "## Evaluate predictions using Rhea reactions with curated EC <a class=\"anchor\" id=\"curatedEC\"></a>\n",
    "\n",
    "Evaluation 1: Use Rhea reactions with expert-curated ECs to evaluate the quality of the EC predictions.\n",
    "\n",
    "These are the reactions that we used to train the models, so we expect very good accuracy."
   ]
  },
  {
   "cell_type": "code",
   "execution_count": 4,
   "id": "f63c77cf",
   "metadata": {},
   "outputs": [
    {
     "name": "stdout",
     "output_type": "stream",
     "text": [
      "\n",
      "Total:\n",
      "\n",
      "7303 reactions with curated and predicted EC\n",
      "6945 true predictions\n",
      "358 false predictions\n",
      "\n",
      "With probability > 0.9:\n",
      "\n",
      "6669 reactions with curated and predicted EC\n",
      "6624 true predictions\n",
      "45 false predictions\n"
     ]
    }
   ],
   "source": [
    "df_pred_for_curated_ec = df_pred[df_pred['ec'].notna()].copy()\n",
    "df_pred_for_curated_ec[[\"ec_1\", \"ec_2\", \"ec_3\", \"ec_4\"]] = df_pred_for_curated_ec.ec.astype(str).str.split(\".\", expand=True)\n",
    "df_pred_for_curated_ec[\"ec123\"] = ( \n",
    "        df_pred_for_curated_ec.ec_1.astype(str) + \".\" +\n",
    "        df_pred_for_curated_ec.ec_2.astype(str) + \".\" + \n",
    "        df_pred_for_curated_ec.ec_3.astype(str)\n",
    "    )\n",
    "df_pred_for_curated_ec.drop(columns=[\"ec_2\", \"ec_3\", \"ec_4\"], inplace=True)\n",
    "df_pred_for_curated_ec['best_pred_EC'] =  df_pred_for_curated_ec.apply(\n",
    "                 lambda x: x[\"EC_prediction\"].split(' | ')[0].split(':')[0], axis=1)\n",
    "df_pred_for_curated_ec['match'] = df_pred_for_curated_ec.apply(lambda x: x['best_pred_EC'] == x['ec123'], axis=1)\n",
    "df_pred_for_curated_ec.sort_values(by=['match', 'ec_1'], inplace=True)\n",
    "df_pred_for_curated_ec.to_csv(\"experiments/predictions/rheadb_predicted_ECs_for_curated_EC_clean.tsv\", sep='\\t', index=False)\n",
    "\n",
    "df_pred_for_curated_ec['best_pred_EC'] = df_pred_for_curated_ec.apply(\n",
    "                 lambda x: x[\"EC_prediction\"].split(' | ')[0].split(':')[0], axis=1)\n",
    "\n",
    "df_pred_for_curated_ec['best_pred_EC_probability'] = df_pred_for_curated_ec.apply( \n",
    "                 lambda x: float(x[\"EC_prediction\"].split(\" | \")[0].split(\":\")[1]), axis=1)\n",
    "\n",
    "print('\\nTotal:\\n')\n",
    "\n",
    "print(len(df_pred_for_curated_ec), 'reactions with curated and predicted EC')\n",
    "\n",
    "df_ec_true  = df_pred_for_curated_ec.loc[(df_pred_for_curated_ec.match == True)]\n",
    "print(len(df_ec_true), 'true predictions')\n",
    "\n",
    "df_ec_false = df_pred_for_curated_ec.loc[(df_pred_for_curated_ec.match == False)]\n",
    "print(len(df_ec_false), 'false predictions')\n",
    "\n",
    "print('\\nWith probability > 0.9:\\n')\n",
    "\n",
    "df_ec_total = df_pred_for_curated_ec.loc[\n",
    "    (df_pred_for_curated_ec.best_pred_EC_probability>0.9)]\n",
    "print(len(df_ec_total), 'reactions with curated and predicted EC')\n",
    "\n",
    "df_ec_true  = df_pred_for_curated_ec.loc[\n",
    "    (df_pred_for_curated_ec.best_pred_EC_probability>0.9) &\n",
    "    (df_pred_for_curated_ec.match == True)]\n",
    "print(len(df_ec_true), 'true predictions')\n",
    "\n",
    "df_ec_false = df_pred_for_curated_ec.loc[\n",
    "    (df_pred_for_curated_ec.best_pred_EC_probability>0.9) &\n",
    "    (df_pred_for_curated_ec.match == False)]\n",
    "print(len(df_ec_false), 'false predictions')"
   ]
  },
  {
   "cell_type": "markdown",
   "id": "070f211a",
   "metadata": {},
   "source": [
    "## Evaluate predictions using Rhea reactions with hierarchy-inferred EC <a class=\"anchor\" id=\"inferredEC\"></a>\n",
    "\n",
    "Evaluation 2: Use the curated Rhea reaction hierarchy to infer ECs for related reactions to evaluate the quality of the EC predictions against data that was not used for training the models."
   ]
  },
  {
   "cell_type": "code",
   "execution_count": 5,
   "id": "c6b93bf7",
   "metadata": {
    "scrolled": true
   },
   "outputs": [
    {
     "name": "stdout",
     "output_type": "stream",
     "text": [
      "8524 reactions without curated EC\n"
     ]
    }
   ],
   "source": [
    "df_pred_for_lacking_ec = df_pred[df_pred['ec'].isna()].copy()\n",
    "print(len(df_pred_for_lacking_ec), 'reactions without curated EC')"
   ]
  },
  {
   "cell_type": "markdown",
   "id": "12e86572",
   "metadata": {},
   "source": [
    "### Infer EC classes from curated Rhea reaction hierarchy <a class=\"anchor\" id=\"hierarchy\"></a>"
   ]
  },
  {
   "cell_type": "code",
   "execution_count": 6,
   "id": "a4c26011",
   "metadata": {},
   "outputs": [
    {
     "name": "stdout",
     "output_type": "stream",
     "text": [
      "df_components = rhea reactions grouped according to hierarchy, with their EC(s)\n",
      "Index(['RHEA_ID', 'component_id', 'common_ec'], dtype='object')\n",
      "\n",
      "114 distinct inferred EC (3-level)\n",
      "3696 reactions with inferred EC (3-level)\n"
     ]
    }
   ],
   "source": [
    "import networkx as nx\n",
    "G = nx.from_pandas_edgelist(df_hierarchy, 'FROM_REACTION_ID', 'TO_REACTION_ID')\n",
    "ec_dict = pd.Series(df_ec.ID.values,index=df_ec.MASTER_ID).to_dict()\n",
    "nx.set_node_attributes(G, ec_dict, name=\"ec\")\n",
    "f_out = open(\"experiments/predictions/rheadb_components_inferred_EC.tsv\", 'w')\n",
    "f_out.write(\"RHEA_ID\\tcomponent_id\\tcommon_ec\\n\")\n",
    "for ind, component in enumerate(nx.connected_components(G)):\n",
    "    common_3l_ec_list = []\n",
    "    H = nx.induced_subgraph(G, component)\n",
    "    all_nodes = list(H.nodes(data=True))\n",
    "    for node in all_nodes:\n",
    "        common_3l_ec_list.append('.'.join(node[1].get('ec', '...').split('.')[:3]))\n",
    "    common_ecs_of_family = ' | '.join(list(set(common_3l_ec_list) - {'..'}))\n",
    "    for node in component:\n",
    "        f_out.write(f'{node}\\t{ind+1}\\t{common_ecs_of_family}\\n')\n",
    "f_out.close()\n",
    "\n",
    "df_components = pd.read_csv(\"experiments/predictions/rheadb_components_inferred_EC.tsv\", sep='\\t')\n",
    "print('df_components = rhea reactions grouped according to hierarchy, with their EC(s)')\n",
    "print(df_components.columns)\n",
    "df_components.dropna(inplace=True)\n",
    "\n",
    "# Print number of inferred EC classes and reactions with inferred EC classes.\n",
    "ecs = []\n",
    "for ecs_group in df_components['common_ec'].unique():\n",
    "    if type(ecs_group) == str:\n",
    "        ecs.extend(ecs_group.split(' | '))\n",
    "print()\n",
    "print(len(set(ecs)), 'distinct inferred EC (3-level)')\n",
    "print(len(df_components), 'reactions with inferred EC (3-level)')"
   ]
  },
  {
   "cell_type": "markdown",
   "id": "f6174d15",
   "metadata": {},
   "source": [
    "### Compare hierarchy-inferred and predicted ECs <a class=\"anchor\" id=\"compare\"></a>"
   ]
  },
  {
   "cell_type": "code",
   "execution_count": 7,
   "id": "a84525ea",
   "metadata": {},
   "outputs": [
    {
     "name": "stdout",
     "output_type": "stream",
     "text": [
      "\n",
      "Total:\n",
      "\n",
      "2115 reactions with inferred and predicted EC\n",
      "2000 true predictions\n",
      "115 false predictions\n",
      "\n",
      "With probability > 0.9:\n",
      "\n",
      "1836 reactions with inferred and predicted EC\n",
      "1815 true predictions\n",
      "21 false predictions\n"
     ]
    }
   ],
   "source": [
    "def getMatchInferredAndPredicted(row):\n",
    "    if not pd.isna(row['common_ec']):\n",
    "        if row['best_pred_EC'] in row['common_ec'].split(' | '):\n",
    "            return True\n",
    "        return False\n",
    "    return \"\"\n",
    "\n",
    "df_pred_for_lacking_ec['best_pred_EC'] =  df_pred_for_lacking_ec.apply(\n",
    "                 lambda x: x[\"EC_prediction\"].split(' | ')[0].split(':')[0], axis=1)\n",
    "\n",
    "df_pred_for_lacking_ec['best_pred_EC_probability'] =  df_pred_for_lacking_ec.apply( \n",
    "                 lambda x: float(f'{float(x[\"EC_prediction\"].split(\" | \")[0].split(\":\")[1]):.3f}'), axis=1)\n",
    "\n",
    "\n",
    "df_pred_for_lacking_ec_with_components = df_pred_for_lacking_ec.merge(df_components, \n",
    "                                             how = \"left\", left_on = \"MASTER_ID\", right_on = \"RHEA_ID\")\n",
    "\n",
    "df_pred_for_lacking_ec_with_components.drop(columns=['ec', 'RHEA_ID'], inplace=True)\n",
    "df_pred_for_lacking_ec_with_components.sort_values(by=['component_id'], inplace=True)\n",
    "df_pred_for_lacking_ec_with_components['match_hierarchy_and_prediction'] \\\n",
    "                  = df_pred_for_lacking_ec_with_components.apply(getMatchInferredAndPredicted, axis=1)\n",
    "\n",
    "print('\\nTotal:\\n')\n",
    "\n",
    "df_ec_total = df_pred_for_lacking_ec_with_components.loc[\n",
    "    (df_pred_for_lacking_ec_with_components.match_hierarchy_and_prediction != '')]\n",
    "print(len(df_ec_total), 'reactions with inferred and predicted EC')\n",
    "\n",
    "df_ec_true = df_pred_for_lacking_ec_with_components.loc[\n",
    "    (df_pred_for_lacking_ec_with_components.match_hierarchy_and_prediction == True)]\n",
    "print(len(df_ec_true), 'true predictions')\n",
    "\n",
    "df_ec_false = df_pred_for_lacking_ec_with_components.loc[\n",
    "    (df_pred_for_lacking_ec_with_components.match_hierarchy_and_prediction == False)]\n",
    "print(len(df_ec_false), 'false predictions')\n",
    "\n",
    "print('\\nWith probability > 0.9:\\n')\n",
    "\n",
    "df_ec_total = df_pred_for_lacking_ec_with_components.loc[\n",
    "    (df_pred_for_lacking_ec_with_components.best_pred_EC_probability>0.9) &\n",
    "    (df_pred_for_lacking_ec_with_components.match_hierarchy_and_prediction != '')]\n",
    "print(len(df_ec_total), 'reactions with inferred and predicted EC')\n",
    "\n",
    "df_ec_true = df_pred_for_lacking_ec_with_components.loc[\n",
    "    (df_pred_for_lacking_ec_with_components.best_pred_EC_probability>0.9) &\n",
    "    (df_pred_for_lacking_ec_with_components.match_hierarchy_and_prediction == True)]\n",
    "print(len(df_ec_true), 'true predictions')\n",
    "\n",
    "df_ec_false = df_pred_for_lacking_ec_with_components.loc[\n",
    "    (df_pred_for_lacking_ec_with_components.best_pred_EC_probability>0.9) &\n",
    "    (df_pred_for_lacking_ec_with_components.match_hierarchy_and_prediction == False)]\n",
    "print(len(df_ec_false), 'false predictions')"
   ]
  },
  {
   "cell_type": "markdown",
   "id": "b8a812b9",
   "metadata": {},
   "source": [
    "### Plot MLP probabilities <a class=\"anchor\" id=\"plot\"></a>\n",
    "\n",
    "Plot MLP probabilities for EC predictions\n",
    "- that match the hierarchy-inferred ECs\n",
    "- that differ from the hierarchy-inferred ECs\n",
    "- where no hierarchy-inferred ECs are available"
   ]
  },
  {
   "cell_type": "code",
   "execution_count": 8,
   "id": "b025ce26",
   "metadata": {},
   "outputs": [],
   "source": [
    "import matplotlib.pyplot as plt\n",
    "\n",
    "def plotProbs(df, func, label):\n",
    "    binwidth = 10\n",
    "    df_1 = df[func(df['match_hierarchy_and_prediction'])].copy()\n",
    "    probs = df_1.best_pred_EC_probability.astype('float').apply(lambda x: x*100)\n",
    "    probs.hist(bins=range(0, 110, binwidth))\n",
    "    plt.title(label)\n",
    "    plt.ylabel('Number of reactions')\n",
    "    plt.xlim(0,110)\n",
    "    plt.xlabel('MLP probability (%)')\n",
    "    plt.savefig('figures/'+label+'.png')"
   ]
  },
  {
   "cell_type": "code",
   "execution_count": 9,
   "id": "ce0bff57",
   "metadata": {},
   "outputs": [
    {
     "data": {
      "image/png": "[encoded data removed]",
      "text/plain": [
       "<Figure size 640x480 with 1 Axes>"
      ]
     },
     "metadata": {},
     "output_type": "display_data"
    }
   ],
   "source": [
    "plotProbs(df_pred_for_lacking_ec_with_components, lambda x: x==True,\n",
    "          \"Predicted EC MATCHES hierarchy-inferred EC\")"
   ]
  },
  {
   "cell_type": "code",
   "execution_count": 10,
   "id": "ceeca012",
   "metadata": {},
   "outputs": [
    {
     "data": {
      "image/png": "[encoded data removed]",
      "text/plain": [
       "<Figure size 640x480 with 1 Axes>"
      ]
     },
     "metadata": {},
     "output_type": "display_data"
    }
   ],
   "source": [
    "plotProbs(df_pred_for_lacking_ec_with_components, lambda x: x==False,\n",
    "          \"Predicted EC DIFFERENT from hierarchy-inferred EC\")"
   ]
  },
  {
   "cell_type": "code",
   "execution_count": 11,
   "id": "a53e7541",
   "metadata": {},
   "outputs": [
    {
     "data": {
      "image/png": "[encoded data removed]",
      "text/plain": [
       "<Figure size 640x480 with 1 Axes>"
      ]
     },
     "metadata": {},
     "output_type": "display_data"
    }
   ],
   "source": [
    "plotProbs(df_pred_for_lacking_ec_with_components, lambda x: x=='',\n",
    "          \"No hierarchy-inferred EC available\")"
   ]
  }
 ],
 "metadata": {
  "kernelspec": {
   "display_name": "Python 3 (ipykernel)",
   "language": "python",
   "name": "python3"
  },
  "language_info": {
   "codemirror_mode": {
    "name": "ipython",
    "version": 3
   },
   "file_extension": ".py",
   "mimetype": "text/x-python",
   "name": "python",
   "nbconvert_exporter": "python",
   "pygments_lexer": "ipython3",
   "version": "3.9.13"
  }
 },
 "nbformat": 4,
 "nbformat_minor": 5
}
